{
 "cells": [
  {
   "cell_type": "code",
   "execution_count": null,
   "metadata": {},
   "outputs": [],
   "source": [
    "---\n",
    "title: \"My Presentation\"\n",
    "format: reavealjs\n",
    "output:reavealjs::revealjs_presentation\n",
    "bibliogragphy: reference.bib\n",
    "theme: white\n",
    "code-fold:True\n",
    "---\n",
    "## Intro\n",
    "First slide\n",
    "\n",
    "## Date Science\n",
    "Second slide\n",
    "\n",
    "![Data Science!!](images/data scicence.jpg)\n",
    "This is a citation from my `reference.bib` file:@wickham2\n",
    "\n",
    "## Conclusion\n",
    "Third slide\n",
    "\n",
    "```python\n",
    "import matplotlib.pyplot as plt\n",
    "import numpy as np\n",
    "\n",
    "# Generate data\n",
    "x = np.linspace(0,10,100)\n",
    "y = np.sin(x)\n",
    "\n",
    "#Create a plot\n",
    "plt.plot(x,y)\n",
    "plt.title(\"Roll Wave\")\n",
    "plt.show()\n",
    "\n"
   ]
  }
 ],
 "metadata": {
  "kernelspec": {
   "display_name": "Python 3 (ipykernel)",
   "language": "python",
   "name": "python3"
  },
  "language_info": {
   "codemirror_mode": {
    "name": "ipython",
    "version": 3
   },
   "file_extension": ".py",
   "mimetype": "text/x-python",
   "name": "python",
   "nbconvert_exporter": "python",
   "pygments_lexer": "ipython3",
   "version": "3.12.6"
  }
 },
 "nbformat": 4,
 "nbformat_minor": 4
}
